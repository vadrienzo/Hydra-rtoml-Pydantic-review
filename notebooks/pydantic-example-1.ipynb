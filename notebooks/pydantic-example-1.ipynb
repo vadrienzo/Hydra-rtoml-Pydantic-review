{
 "cells": [
  {
   "cell_type": "code",
   "execution_count": 2,
   "metadata": {},
   "outputs": [],
   "source": [
    "from datetime import datetime, timezone, timedelta\n",
    "import pprint\n",
    "from pydantic import BaseModel, Field\n",
    "import toml\n",
    "from typing import List"
   ]
  },
  {
   "cell_type": "code",
   "execution_count": 3,
   "metadata": {},
   "outputs": [],
   "source": [
    "class Owner(BaseModel):\n",
    "    dob: datetime\n",
    "    name: str\n",
    "\n",
    "class Database(BaseModel):\n",
    "    connection_max: int\n",
    "    enabled: bool\n",
    "    ports: List[int]\n",
    "    server: str\n",
    "\n",
    "class Obj(BaseModel):\n",
    "    title: str\n",
    "    owner: Owner\n",
    "    database: Database"
   ]
  },
  {
   "cell_type": "code",
   "execution_count": 8,
   "metadata": {},
   "outputs": [],
   "source": [
    "FILE = 'rtoml-tomls/rtoml-example-1.toml'\n",
    "with open(FILE, 'r') as fd:\n",
    "    loaded_obj = Obj(**toml.load(fd))"
   ]
  },
  {
   "cell_type": "code",
   "execution_count": 9,
   "metadata": {},
   "outputs": [
    {
     "name": "stdout",
     "output_type": "stream",
     "text": [
      "{'database': {'connection_max': 5000,\n",
      "              'enabled': True,\n",
      "              'ports': [8001, 8001, 8002],\n",
      "              'server': '192.168.1.1'},\n",
      " 'owner': {'dob': datetime.datetime(1979, 5, 27, 7, 32, tzinfo=<toml.tz.TomlTz object at 0x10a6925d0>),\n",
      "           'name': 'Tom Preston-Werner'},\n",
      " 'title': 'TOML Example'}\n"
     ]
    }
   ],
   "source": [
    "pprint.pprint(loaded_obj.dict())"
   ]
  },
  {
   "cell_type": "code",
   "execution_count": 7,
   "metadata": {},
   "outputs": [],
   "source": [
    "obj = {\n",
    "    'title': 'TOML Example',\n",
    "    'owner': {\n",
    "        'dob': datetime(1979, 5, 27, 7, 32, tzinfo=timezone(timedelta(hours=-8))),\n",
    "        'name': 'Tom Preston-Werner',\n",
    "    },\n",
    "    'database': {\n",
    "        'connection_max': 5000,\n",
    "        'enabled': True,\n",
    "        'ports': [8001, 8001, 8002],\n",
    "        'server': '192.168.1.1',\n",
    "    },\n",
    "}"
   ]
  },
  {
   "cell_type": "code",
   "execution_count": null,
   "metadata": {},
   "outputs": [],
   "source": [
    "assert loaded_obj == obj"
   ]
  }
 ],
 "metadata": {
  "kernelspec": {
   "display_name": "hydra-rtoml-pydantic",
   "language": "python",
   "name": "python3"
  },
  "language_info": {
   "codemirror_mode": {
    "name": "ipython",
    "version": 3
   },
   "file_extension": ".py",
   "mimetype": "text/x-python",
   "name": "python",
   "nbconvert_exporter": "python",
   "pygments_lexer": "ipython3",
   "version": "3.11.3"
  },
  "orig_nbformat": 4
 },
 "nbformat": 4,
 "nbformat_minor": 2
}
