{
 "cells": [
  {
   "cell_type": "code",
   "execution_count": 1,
   "metadata": {},
   "outputs": [],
   "source": [
    "from datetime import datetime, timezone, timedelta\n",
    "import pprint\n",
    "from pydantic import BaseModel, Field\n",
    "import toml\n",
    "from typing import List"
   ]
  },
  {
   "cell_type": "code",
   "execution_count": 2,
   "metadata": {},
   "outputs": [],
   "source": [
    "class Owner(BaseModel):\n",
    "    dob: datetime\n",
    "    name: str\n",
    "\n",
    "class Database(BaseModel):\n",
    "    connection_max: int\n",
    "    enabled: bool\n",
    "    ports: List[int]\n",
    "    server: str\n",
    "\n",
    "class Obj(BaseModel):\n",
    "    title: str\n",
    "    owner: Owner\n",
    "    database: Database"
   ]
  },
  {
   "cell_type": "code",
   "execution_count": 5,
   "metadata": {},
   "outputs": [],
   "source": [
    "FILE = 'rtoml-tomls/rtoml-example-2.toml'\n",
    "with open(FILE, 'r') as fd:\n",
    "    loaded_obj = Obj(**toml.load(fd))"
   ]
  },
  {
   "cell_type": "code",
   "execution_count": 6,
   "metadata": {},
   "outputs": [
    {
     "name": "stdout",
     "output_type": "stream",
     "text": [
      "{'database': {'connection_max': 5000,\n",
      "              'enabled': True,\n",
      "              'ports': [8001, 8001, 8002],\n",
      "              'server': '192.168.1.1'},\n",
      " 'owner': {'dob': datetime.datetime(1979, 5, 27, 7, 32, tzinfo=<toml.tz.TomlTz object at 0x10a02c250>),\n",
      "           'name': 'Tom Preston-Werner'},\n",
      " 'title': 'TOML Example'}\n"
     ]
    }
   ],
   "source": [
    "pprint.pprint(loaded_obj.dict())"
   ]
  },
  {
   "cell_type": "code",
   "execution_count": 7,
   "metadata": {},
   "outputs": [],
   "source": [
    "obj = {\n",
    "    'title': 'TOML Example',\n",
    "    'owner': {\n",
    "        'dob': datetime(1979, 5, 27, 7, 32, tzinfo=timezone(timedelta(hours=-8))),\n",
    "        'name': 'Tom Preston-Werner',\n",
    "    },\n",
    "    'database': {\n",
    "        'connection_max': 5000,\n",
    "        'enabled': True,\n",
    "        'ports': [8001, 8001, 8002],\n",
    "        'server': '192.168.1.1',\n",
    "        'None-type': None\n",
    "    },\n",
    "}"
   ]
  },
  {
   "cell_type": "code",
   "execution_count": 8,
   "metadata": {},
   "outputs": [
    {
     "ename": "AssertionError",
     "evalue": "",
     "output_type": "error",
     "traceback": [
      "\u001b[0;31m---------------------------------------------------------------------------\u001b[0m",
      "\u001b[0;31mAssertionError\u001b[0m                            Traceback (most recent call last)",
      "Cell \u001b[0;32mIn[8], line 1\u001b[0m\n\u001b[0;32m----> 1\u001b[0m \u001b[39massert\u001b[39;00m loaded_obj \u001b[39m==\u001b[39m obj\n",
      "\u001b[0;31mAssertionError\u001b[0m: "
     ]
    }
   ],
   "source": [
    "assert loaded_obj == obj"
   ]
  }
 ],
 "metadata": {
  "kernelspec": {
   "display_name": "hydra-rtoml-pydantic",
   "language": "python",
   "name": "python3"
  },
  "language_info": {
   "codemirror_mode": {
    "name": "ipython",
    "version": 3
   },
   "file_extension": ".py",
   "mimetype": "text/x-python",
   "name": "python",
   "nbconvert_exporter": "python",
   "pygments_lexer": "ipython3",
   "version": "3.11.3"
  },
  "orig_nbformat": 4
 },
 "nbformat": 4,
 "nbformat_minor": 2
}
