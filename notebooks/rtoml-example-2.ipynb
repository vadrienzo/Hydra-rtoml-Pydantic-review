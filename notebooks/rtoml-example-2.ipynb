{
 "cells": [
  {
   "cell_type": "code",
   "execution_count": 1,
   "metadata": {},
   "outputs": [],
   "source": [
    "from datetime import datetime, timezone, timedelta\n",
    "import rtoml"
   ]
  },
  {
   "cell_type": "code",
   "execution_count": 2,
   "metadata": {},
   "outputs": [],
   "source": [
    "FILE = 'rtoml-tomls/rtoml-example-2.toml'"
   ]
  },
  {
   "cell_type": "code",
   "execution_count": 3,
   "metadata": {},
   "outputs": [],
   "source": [
    "obj = {\n",
    "    'title': 'TOML Example',\n",
    "    'owner': {\n",
    "        'dob': datetime(1979, 5, 27, 7, 32, tzinfo=timezone(timedelta(hours=-8))),\n",
    "        'name': 'Tom Preston-Werner',\n",
    "    },\n",
    "    'database': {\n",
    "        'connection_max': 5000,\n",
    "        'enabled': True,\n",
    "        'ports': [8001, 8001, 8002],\n",
    "        'server': '192.168.1.1',\n",
    "        'None-type': None\n",
    "    },\n",
    "}"
   ]
  },
  {
   "cell_type": "code",
   "execution_count": 4,
   "metadata": {},
   "outputs": [
    {
     "data": {
      "text/plain": [
       "{'title': 'TOML Example',\n",
       " 'owner': {'dob': datetime.datetime(1979, 5, 27, 7, 32, tzinfo=datetime.timezone(datetime.timedelta(days=-1, seconds=57600))),\n",
       "  'name': 'Tom Preston-Werner'},\n",
       " 'database': {'connection_max': 5000,\n",
       "  'enabled': True,\n",
       "  'ports': [8001, 8001, 8002],\n",
       "  'server': '192.168.1.1',\n",
       "  'None-type': None}}"
      ]
     },
     "execution_count": 4,
     "metadata": {},
     "output_type": "execute_result"
    }
   ],
   "source": [
    "obj"
   ]
  },
  {
   "cell_type": "code",
   "execution_count": 5,
   "metadata": {},
   "outputs": [],
   "source": [
    "with open(FILE, 'w') as f:\n",
    "    rtoml.dump(obj, f)"
   ]
  },
  {
   "cell_type": "code",
   "execution_count": 6,
   "metadata": {},
   "outputs": [],
   "source": [
    "\n",
    "with open(FILE, 'r') as f:\n",
    "    loaded_obj = rtoml.load(f)"
   ]
  },
  {
   "cell_type": "code",
   "execution_count": 7,
   "metadata": {},
   "outputs": [
    {
     "ename": "AssertionError",
     "evalue": "",
     "output_type": "error",
     "traceback": [
      "\u001b[0;31m---------------------------------------------------------------------------\u001b[0m",
      "\u001b[0;31mAssertionError\u001b[0m                            Traceback (most recent call last)",
      "Cell \u001b[0;32mIn[7], line 1\u001b[0m\n\u001b[0;32m----> 1\u001b[0m \u001b[39massert\u001b[39;00m loaded_obj \u001b[39m==\u001b[39m obj\n",
      "\u001b[0;31mAssertionError\u001b[0m: "
     ]
    }
   ],
   "source": [
    "assert loaded_obj == obj"
   ]
  },
  {
   "cell_type": "code",
   "execution_count": 8,
   "metadata": {},
   "outputs": [
    {
     "data": {
      "text/plain": [
       "{'title': 'TOML Example',\n",
       " 'owner': {'dob': datetime.datetime(1979, 5, 27, 7, 32, tzinfo=TzInfo(UTC-08:00)),\n",
       "  'name': 'Tom Preston-Werner'},\n",
       " 'database': {'connection_max': 5000,\n",
       "  'enabled': True,\n",
       "  'server': '192.168.1.1',\n",
       "  'None-type': 'null',\n",
       "  'ports': [8001, 8001, 8002]}}"
      ]
     },
     "execution_count": 8,
     "metadata": {},
     "output_type": "execute_result"
    }
   ],
   "source": [
    "loaded_obj"
   ]
  },
  {
   "cell_type": "code",
   "execution_count": 9,
   "metadata": {},
   "outputs": [],
   "source": [
    "assert rtoml.dumps(obj) == \"\"\"\\\n",
    "title = \"TOML Example\"\n",
    "\n",
    "[owner]\n",
    "dob = 1979-05-27T07:32:00-08:00\n",
    "name = \"Tom Preston-Werner\"\n",
    "\n",
    "[database]\n",
    "connection_max = 5000\n",
    "enabled = true\n",
    "server = \"192.168.1.1\"\n",
    "None-type = \"null\"\n",
    "ports = [8001, 8001, 8002]\n",
    "\"\"\""
   ]
  },
  {
   "cell_type": "code",
   "execution_count": null,
   "metadata": {},
   "outputs": [],
   "source": []
  }
 ],
 "metadata": {
  "kernelspec": {
   "display_name": "hydra-rtoml-pydantic",
   "language": "python",
   "name": "python3"
  },
  "language_info": {
   "codemirror_mode": {
    "name": "ipython",
    "version": 3
   },
   "file_extension": ".py",
   "mimetype": "text/x-python",
   "name": "python",
   "nbconvert_exporter": "python",
   "pygments_lexer": "ipython3",
   "version": "3.11.3"
  },
  "orig_nbformat": 4
 },
 "nbformat": 4,
 "nbformat_minor": 2
}
